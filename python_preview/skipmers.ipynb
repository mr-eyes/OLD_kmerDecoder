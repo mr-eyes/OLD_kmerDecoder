{
 "cells": [
  {
   "cell_type": "markdown",
   "metadata": {},
   "source": [
    "<img src=\"https://github.com/bioinfologics/skm-tools/raw/master/definition.png\" width='500px'>"
   ]
  },
  {
   "cell_type": "code",
   "execution_count": 1,
   "metadata": {},
   "outputs": [],
   "source": [
    "class Skipmer:\n",
    "    def __init__(self, m, n, k):\n",
    "        self.m = m\n",
    "        self.n = n\n",
    "        self.k = k\n",
    "        S = k\n",
    "        self.S = S + ((S - 1) / self.m) * (self.n - self.m)\n",
    "\n",
    "    def getskipmers(self, seq):\n",
    "        for i in range(len(seq) - self.S + 1):\n",
    "            skipmer = \"\"\n",
    "            for j in range(i, i+self.S, self.n):\n",
    "                skipmer += seq[j:j+self.m]\n",
    "            print \"skipmer %i: %s\" % (i, skipmer)\n",
    "            \n"
   ]
  },
  {
   "cell_type": "code",
   "execution_count": 2,
   "metadata": {},
   "outputs": [],
   "source": [
    "sk = Skipmer(2, 3, 14)"
   ]
  },
  {
   "cell_type": "code",
   "execution_count": 3,
   "metadata": {},
   "outputs": [
    {
     "name": "stdout",
     "output_type": "stream",
     "text": [
      "skipmer 0: ATAGGGATCCCTTT\n",
      "skipmer 1: TGGGGGTGCCTCTT\n",
      "skipmer 2: GAGGGAGCCCCTTG\n",
      "skipmer 3: AGGGATCCCTTTGA\n",
      "skipmer 4: GGGGTGCCTCTTAG\n",
      "skipmer 5: GGGAGCCCCTTGGC\n",
      "skipmer 6: GGATCCCTTTGACC\n",
      "skipmer 7: GGTGCCTCTTAGCC\n",
      "skipmer 8: GAGCCCCTTGGCCA\n",
      "skipmer 9: ATCCCTTTGACCAA\n",
      "skipmer 10: TGCCTCTTAGCCAG\n",
      "skipmer 11: GCCCCTTGGCCAGG\n"
     ]
    }
   ],
   "source": [
    "sk.getskipmers(\"ATGAGGGGGATGCCCCTCTTTGAGCCCAAGG\")"
   ]
  },
  {
   "cell_type": "code",
   "execution_count": 4,
   "metadata": {},
   "outputs": [
    {
     "name": "stdout",
     "output_type": "stream",
     "text": [
      "skipmer 0: ATGGGACCTCTGCC\n",
      "skipmer 1: TGGGATCCCTGACC\n",
      "skipmer 2: GAGGTGCCTTAGCA\n",
      "skipmer 3: AGGGGCCTTTGCAA\n",
      "skipmer 4: GGGACCTCTGCCAG\n",
      "skipmer 5: GGATCCCTGACCGG\n"
     ]
    }
   ],
   "source": [
    "sk2 = Skipmer(2, 4, 14)\n",
    "sk2.getskipmers(\"ATGAGGGGGATGCCCCTCTTTGAGCCCAAGG\")"
   ]
  }
 ],
 "metadata": {
  "kernelspec": {
   "display_name": "Python 2",
   "language": "python",
   "name": "python2"
  },
  "language_info": {
   "codemirror_mode": {
    "name": "ipython",
    "version": 2
   },
   "file_extension": ".py",
   "mimetype": "text/x-python",
   "name": "python",
   "nbconvert_exporter": "python",
   "pygments_lexer": "ipython2",
   "version": "2.7.15rc1"
  }
 },
 "nbformat": 4,
 "nbformat_minor": 2
}
