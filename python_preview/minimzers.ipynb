{
 "cells": [
  {
   "cell_type": "code",
   "execution_count": 1,
   "metadata": {},
   "outputs": [],
   "source": [
    "from prettytable import PrettyTable"
   ]
  },
  {
   "cell_type": "code",
   "execution_count": 5,
   "metadata": {},
   "outputs": [],
   "source": [
    "def minimize(M, Kmer, seq):\n",
    "    L = len(seq)\n",
    "    rev=seq[::-1]\n",
    "    rev=rev.replace(\"A\",\"X\")\n",
    "    rev=rev.replace(\"T\",\"A\")\n",
    "    rev=rev.replace(\"X\",\"T\")\n",
    "    rev=rev.replace(\"C\",\"X\")\n",
    "    rev=rev.replace(\"G\",\"C\")\n",
    "    rev=rev.replace(\"X\",\"G\")\n",
    "    \n",
    "    result = PrettyTable()\n",
    "    result.field_names = [\"ser.\", \"Kmer\", \"Minimzer\"]\n",
    "    \n",
    "    for i in range(0, L-Kmer+1):\n",
    "\n",
    "        sub_f=seq[i:i+Kmer]\n",
    "        sub_r=rev[L-Kmer-i:L-i]\n",
    "\n",
    "        minimzer=\"ZZZZZZZZZZZZZ\"\n",
    "        for j in range(0, Kmer-M+1):\n",
    "                sub2=sub_f[j:j+M]\n",
    "                if sub2 < minimzer:\n",
    "                        minimzer=sub2\n",
    "                sub2=sub_r[j:j+M]\n",
    "                if sub2 < minimzer:\n",
    "                        minimzer=sub2\n",
    "\n",
    "        result.add_row([i+1, sub_f, minimzer])\n",
    "    \n",
    "    print result\n"
   ]
  },
  {
   "cell_type": "code",
   "execution_count": 3,
   "metadata": {},
   "outputs": [],
   "source": [
    "seq=\"ATGCGATATCGTAGGCGTCGATGGAGAGCTAGATCGATCGATCTAAATCCCGATCGATTCCGAGCGCGATCAAAGCGCGATAGGCTAGCTAAAGCTAGCA\""
   ]
  },
  {
   "cell_type": "code",
   "execution_count": 6,
   "metadata": {},
   "outputs": [
    {
     "name": "stdout",
     "output_type": "stream",
     "text": [
      "+------+---------------------------------+----------+\n",
      "| ser. |               Kmer              | Minimzer |\n",
      "+------+---------------------------------+----------+\n",
      "|  1   | ATGCGATATCGTAGGCGTCGATGGAGAGCTA | ACGATAT  |\n",
      "|  2   | TGCGATATCGTAGGCGTCGATGGAGAGCTAG | ACGATAT  |\n",
      "|  3   | GCGATATCGTAGGCGTCGATGGAGAGCTAGA | ACGATAT  |\n",
      "|  4   | CGATATCGTAGGCGTCGATGGAGAGCTAGAT | ACGATAT  |\n",
      "|  5   | GATATCGTAGGCGTCGATGGAGAGCTAGATC | ACGATAT  |\n",
      "|  6   | ATATCGTAGGCGTCGATGGAGAGCTAGATCG | ACGATAT  |\n",
      "|  7   | TATCGTAGGCGTCGATGGAGAGCTAGATCGA | ACGCCTA  |\n",
      "|  8   | ATCGTAGGCGTCGATGGAGAGCTAGATCGAT | ACGCCTA  |\n",
      "|  9   | TCGTAGGCGTCGATGGAGAGCTAGATCGATC | ACGCCTA  |\n",
      "|  10  | CGTAGGCGTCGATGGAGAGCTAGATCGATCG | ACGCCTA  |\n",
      "|  11  | GTAGGCGTCGATGGAGAGCTAGATCGATCGA | ACGCCTA  |\n",
      "|  12  | TAGGCGTCGATGGAGAGCTAGATCGATCGAT | ACGCCTA  |\n",
      "|  13  | AGGCGTCGATGGAGAGCTAGATCGATCGATC | AGAGCTA  |\n",
      "|  14  | GGCGTCGATGGAGAGCTAGATCGATCGATCT | AGAGCTA  |\n",
      "|  15  | GCGTCGATGGAGAGCTAGATCGATCGATCTA | AGAGCTA  |\n",
      "|  16  | CGTCGATGGAGAGCTAGATCGATCGATCTAA | AGAGCTA  |\n",
      "|  17  | GTCGATGGAGAGCTAGATCGATCGATCTAAA | AGAGCTA  |\n",
      "|  18  | TCGATGGAGAGCTAGATCGATCGATCTAAAT | AGAGCTA  |\n",
      "|  19  | CGATGGAGAGCTAGATCGATCGATCTAAATC | AGAGCTA  |\n",
      "|  20  | GATGGAGAGCTAGATCGATCGATCTAAATCC | AGAGCTA  |\n",
      "|  21  | ATGGAGAGCTAGATCGATCGATCTAAATCCC | AAATCCC  |\n",
      "|  22  | TGGAGAGCTAGATCGATCGATCTAAATCCCG | AAATCCC  |\n",
      "|  23  | GGAGAGCTAGATCGATCGATCTAAATCCCGA | AAATCCC  |\n",
      "|  24  | GAGAGCTAGATCGATCGATCTAAATCCCGAT | AAATCCC  |\n",
      "|  25  | AGAGCTAGATCGATCGATCTAAATCCCGATC | AAATCCC  |\n",
      "|  26  | GAGCTAGATCGATCGATCTAAATCCCGATCG | AAATCCC  |\n",
      "|  27  | AGCTAGATCGATCGATCTAAATCCCGATCGA | AAATCCC  |\n",
      "|  28  | GCTAGATCGATCGATCTAAATCCCGATCGAT | AAATCCC  |\n",
      "|  29  | CTAGATCGATCGATCTAAATCCCGATCGATT | AAATCCC  |\n",
      "|  30  | TAGATCGATCGATCTAAATCCCGATCGATTC | AAATCCC  |\n",
      "|  31  | AGATCGATCGATCTAAATCCCGATCGATTCC | AAATCCC  |\n",
      "|  32  | GATCGATCGATCTAAATCCCGATCGATTCCG | AAATCCC  |\n",
      "|  33  | ATCGATCGATCTAAATCCCGATCGATTCCGA | AAATCCC  |\n",
      "|  34  | TCGATCGATCTAAATCCCGATCGATTCCGAG | AAATCCC  |\n",
      "|  35  | CGATCGATCTAAATCCCGATCGATTCCGAGC | AAATCCC  |\n",
      "|  36  | GATCGATCTAAATCCCGATCGATTCCGAGCG | AAATCCC  |\n",
      "|  37  | ATCGATCTAAATCCCGATCGATTCCGAGCGC | AAATCCC  |\n",
      "|  38  | TCGATCTAAATCCCGATCGATTCCGAGCGCG | AAATCCC  |\n",
      "|  39  | CGATCTAAATCCCGATCGATTCCGAGCGCGA | AAATCCC  |\n",
      "|  40  | GATCTAAATCCCGATCGATTCCGAGCGCGAT | AAATCCC  |\n",
      "|  41  | ATCTAAATCCCGATCGATTCCGAGCGCGATC | AAATCCC  |\n",
      "|  42  | TCTAAATCCCGATCGATTCCGAGCGCGATCA | AAATCCC  |\n",
      "|  43  | CTAAATCCCGATCGATTCCGAGCGCGATCAA | AAATCCC  |\n",
      "|  44  | TAAATCCCGATCGATTCCGAGCGCGATCAAA | AAATCCC  |\n",
      "|  45  | AAATCCCGATCGATTCCGAGCGCGATCAAAG | AAATCCC  |\n",
      "|  46  | AATCCCGATCGATTCCGAGCGCGATCAAAGC | AATCCCG  |\n",
      "|  47  | ATCCCGATCGATTCCGAGCGCGATCAAAGCG | AATCGAT  |\n",
      "|  48  | TCCCGATCGATTCCGAGCGCGATCAAAGCGC | AAAGCGC  |\n",
      "|  49  | CCCGATCGATTCCGAGCGCGATCAAAGCGCG | AAAGCGC  |\n",
      "|  50  | CCGATCGATTCCGAGCGCGATCAAAGCGCGA | AAAGCGC  |\n",
      "|  51  | CGATCGATTCCGAGCGCGATCAAAGCGCGAT | AAAGCGC  |\n",
      "|  52  | GATCGATTCCGAGCGCGATCAAAGCGCGATA | AAAGCGC  |\n",
      "|  53  | ATCGATTCCGAGCGCGATCAAAGCGCGATAG | AAAGCGC  |\n",
      "|  54  | TCGATTCCGAGCGCGATCAAAGCGCGATAGG | AAAGCGC  |\n",
      "|  55  | CGATTCCGAGCGCGATCAAAGCGCGATAGGC | AAAGCGC  |\n",
      "|  56  | GATTCCGAGCGCGATCAAAGCGCGATAGGCT | AAAGCGC  |\n",
      "|  57  | ATTCCGAGCGCGATCAAAGCGCGATAGGCTA | AAAGCGC  |\n",
      "|  58  | TTCCGAGCGCGATCAAAGCGCGATAGGCTAG | AAAGCGC  |\n",
      "|  59  | TCCGAGCGCGATCAAAGCGCGATAGGCTAGC | AAAGCGC  |\n",
      "|  60  | CCGAGCGCGATCAAAGCGCGATAGGCTAGCT | AAAGCGC  |\n",
      "|  61  | CGAGCGCGATCAAAGCGCGATAGGCTAGCTA | AAAGCGC  |\n",
      "|  62  | GAGCGCGATCAAAGCGCGATAGGCTAGCTAA | AAAGCGC  |\n",
      "|  63  | AGCGCGATCAAAGCGCGATAGGCTAGCTAAA | AAAGCGC  |\n",
      "|  64  | GCGCGATCAAAGCGCGATAGGCTAGCTAAAG | AAAGCGC  |\n",
      "|  65  | CGCGATCAAAGCGCGATAGGCTAGCTAAAGC | AAAGCGC  |\n",
      "|  66  | GCGATCAAAGCGCGATAGGCTAGCTAAAGCT | AAAGCGC  |\n",
      "|  67  | CGATCAAAGCGCGATAGGCTAGCTAAAGCTA | AAAGCGC  |\n",
      "|  68  | GATCAAAGCGCGATAGGCTAGCTAAAGCTAG | AAAGCGC  |\n",
      "|  69  | ATCAAAGCGCGATAGGCTAGCTAAAGCTAGC | AAAGCGC  |\n",
      "|  70  | TCAAAGCGCGATAGGCTAGCTAAAGCTAGCA | AAAGCGC  |\n",
      "+------+---------------------------------+----------+\n"
     ]
    }
   ],
   "source": [
    "minimize(7, 31, seq)"
   ]
  },
  {
   "cell_type": "markdown",
   "metadata": {},
   "source": [
    "<img src=\"./minimizers.png\" width='500px'>"
   ]
  }
 ],
 "metadata": {
  "kernelspec": {
   "display_name": "Python 2",
   "language": "python",
   "name": "python2"
  },
  "language_info": {
   "codemirror_mode": {
    "name": "ipython",
    "version": 2
   },
   "file_extension": ".py",
   "mimetype": "text/x-python",
   "name": "python",
   "nbconvert_exporter": "python",
   "pygments_lexer": "ipython2",
   "version": "2.7.15rc1"
  }
 },
 "nbformat": 4,
 "nbformat_minor": 2
}
